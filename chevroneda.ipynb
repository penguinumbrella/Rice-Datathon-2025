{
 "cells": [
  {
   "cell_type": "code",
   "execution_count": 37,
   "metadata": {},
   "outputs": [],
   "source": [
    "import pandas as pd\n",
    "import numpy as np\n",
    "training = pd.read_excel('training.xlsx')\n",
    "scoring = pd.read_excel(\"scoring.xlsx\")\n"
   ]
  },
  {
   "cell_type": "code",
   "execution_count": 38,
   "metadata": {},
   "outputs": [
    {
     "data": {
      "text/plain": [
       "(41053, 10)"
      ]
     },
     "execution_count": 38,
     "metadata": {},
     "output_type": "execute_result"
    }
   ],
   "source": [
    "training.shape"
   ]
  },
  {
   "cell_type": "code",
   "execution_count": 39,
   "metadata": {},
   "outputs": [
    {
     "data": {
      "text/plain": [
       "(7546, 10)"
      ]
     },
     "execution_count": 39,
     "metadata": {},
     "output_type": "execute_result"
    }
   ],
   "source": [
    "scoring.shape"
   ]
  },
  {
   "cell_type": "code",
   "execution_count": 40,
   "metadata": {},
   "outputs": [],
   "source": [
    "training = training.rename(columns={'Date': 'year'})\n",
    "training = training.rename(columns={'Vehicle Category': 'vehicleCategory'})\n",
    "training = training.rename(columns={'GVWR Class': 'gvwrClass'})\n",
    "training = training.rename(columns={'Fuel Type': 'fuelType'})\n",
    "training = training.rename(columns={\"Model Year\": \"modelYear\"})\n",
    "training = training.rename(columns={\"Fuel Technology\": \"fuelTechnology\"})\n",
    "training = training.rename(columns={\"Electric Mile Range\": \"electricMileRange\"})\n",
    "training = training.rename(columns={\"Number of Vehicles Registered at the Same Address\": \"numVehiclesReg\"})\n",
    "training = training.rename(columns={\"Vehicle Population:\": \"vehiclePopulation\"})"
   ]
  },
  {
   "cell_type": "markdown",
   "metadata": {},
   "source": [
    "#Using the mean as our dataset does not contain that many outliers etc."
   ]
  },
  {
   "cell_type": "code",
   "execution_count": 41,
   "metadata": {},
   "outputs": [
    {
     "name": "stderr",
     "output_type": "stream",
     "text": [
      "C:\\Users\\user\\AppData\\Local\\Temp\\ipykernel_8064\\2663670663.py:2: FutureWarning: A value is trying to be set on a copy of a DataFrame or Series through chained assignment using an inplace method.\n",
      "The behavior will change in pandas 3.0. This inplace method will never work because the intermediate object on which we are setting values always behaves as a copy.\n",
      "\n",
      "For example, when doing 'df[col].method(value, inplace=True)', try using 'df.method({col: value}, inplace=True)' or df[col] = df[col].method(value) instead, to perform the operation inplace on the original object.\n",
      "\n",
      "\n",
      "  training['modelYear'].fillna(training['modelYear'].mean(), inplace=True)\n"
     ]
    }
   ],
   "source": [
    "# fill missing values with the mean of our modelYear column\n",
    "training['modelYear'].fillna(training['modelYear'].mean(), inplace=True)"
   ]
  },
  {
   "cell_type": "code",
   "execution_count": 42,
   "metadata": {},
   "outputs": [],
   "source": [
    "#Dropping the Region column\n",
    "training = training.drop(columns=['Region'])"
   ]
  },
  {
   "cell_type": "code",
   "execution_count": 43,
   "metadata": {},
   "outputs": [
    {
     "name": "stderr",
     "output_type": "stream",
     "text": [
      "C:\\Users\\user\\AppData\\Local\\Temp\\ipykernel_8064\\4157842158.py:3: FutureWarning: Downcasting behavior in `replace` is deprecated and will be removed in a future version. To retain the old behavior, explicitly call `result.infer_objects(copy=False)`. To opt-in to the future behavior, set `pd.set_option('future.no_silent_downcasting', True)`\n",
      "  training[\"gvwrClass\"] = training[\"gvwrClass\"].replace(\"Not Applicable\", 0)\n"
     ]
    }
   ],
   "source": [
    "training[\"gvwrClassKN\"] = training[\"gvwrClass\"].apply(lambda x:  1 if x == \"Unknown\" else 0)\n",
    "training[\"gvwrClass\"] = training[\"gvwrClass\"].replace(\"Unknown\", -1)\n",
    "training[\"gvwrClass\"] = training[\"gvwrClass\"].replace(\"Not Applicable\", 0)"
   ]
  },
  {
   "cell_type": "markdown",
   "metadata": {},
   "source": [
    "#Our GVWR Column, \n",
    "#Not applicable = 0\n",
    "#Unkown isss?\n",
    "#So add a column where gvwr type included (binary)"
   ]
  },
  {
   "cell_type": "code",
   "execution_count": 44,
   "metadata": {},
   "outputs": [
    {
     "name": "stdout",
     "output_type": "stream",
     "text": [
      "gvwrClass\n",
      "<class 'int'>    41053\n",
      "Name: count, dtype: int64\n"
     ]
    }
   ],
   "source": [
    "print(training[\"gvwrClass\"].apply(type).value_counts())"
   ]
  },
  {
   "cell_type": "code",
   "execution_count": null,
   "metadata": {},
   "outputs": [],
   "source": [
    "#electricMileRange, we are going to later on OneHotEncode this column\n",
    "#fuelType, we are going to later on OneHotEncode this column\n",
    "#numVehiclesReg, we are going to later on OneHotEncode this column"
   ]
  },
  {
   "cell_type": "code",
   "execution_count": null,
   "metadata": {},
   "outputs": [],
   "source": [
    "#An option, if this doesn't give us the results we want, we can OneHotEncode this instead\n",
    "training"
   ]
  },
  {
   "cell_type": "code",
   "execution_count": 59,
   "metadata": {},
   "outputs": [
    {
     "name": "stderr",
     "output_type": "stream",
     "text": [
      "C:\\Users\\user\\AppData\\Local\\Temp\\ipykernel_8064\\1776417714.py:3: FutureWarning: Downcasting behavior in `replace` is deprecated and will be removed in a future version. To retain the old behavior, explicitly call `result.infer_objects(copy=False)`. To opt-in to the future behavior, set `pd.set_option('future.no_silent_downcasting', True)`\n",
      "  training[\"numVehiclesReg\"] = training[\"numVehiclesReg\"].replace(\"Unknown\", -1)\n"
     ]
    },
    {
     "data": {
      "text/html": [
       "<div>\n",
       "<style scoped>\n",
       "    .dataframe tbody tr th:only-of-type {\n",
       "        vertical-align: middle;\n",
       "    }\n",
       "\n",
       "    .dataframe tbody tr th {\n",
       "        vertical-align: top;\n",
       "    }\n",
       "\n",
       "    .dataframe thead th {\n",
       "        text-align: right;\n",
       "    }\n",
       "</style>\n",
       "<table border=\"1\" class=\"dataframe\">\n",
       "  <thead>\n",
       "    <tr style=\"text-align: right;\">\n",
       "      <th></th>\n",
       "      <th>year</th>\n",
       "      <th>vehicleCategory</th>\n",
       "      <th>gvwrClass</th>\n",
       "      <th>fuelType</th>\n",
       "      <th>modelYear</th>\n",
       "      <th>fuelTechnology</th>\n",
       "      <th>electricMileRange</th>\n",
       "      <th>numVehiclesReg</th>\n",
       "      <th>Vehicle Population</th>\n",
       "      <th>gvwrClassKN</th>\n",
       "      <th>fuelTypeKN</th>\n",
       "      <th>numVehiclesRegKN</th>\n",
       "    </tr>\n",
       "  </thead>\n",
       "  <tbody>\n",
       "    <tr>\n",
       "      <th>0</th>\n",
       "      <td>2019</td>\n",
       "      <td>P</td>\n",
       "      <td>0</td>\n",
       "      <td>Gasoline</td>\n",
       "      <td>2020.0</td>\n",
       "      <td>ICE</td>\n",
       "      <td>Not Applicable</td>\n",
       "      <td>4</td>\n",
       "      <td>395883</td>\n",
       "      <td>0</td>\n",
       "      <td>0</td>\n",
       "      <td>0</td>\n",
       "    </tr>\n",
       "    <tr>\n",
       "      <th>1</th>\n",
       "      <td>2020</td>\n",
       "      <td>P</td>\n",
       "      <td>0</td>\n",
       "      <td>Gasoline</td>\n",
       "      <td>2020.0</td>\n",
       "      <td>ICE</td>\n",
       "      <td>Not Applicable</td>\n",
       "      <td>1</td>\n",
       "      <td>370954</td>\n",
       "      <td>0</td>\n",
       "      <td>0</td>\n",
       "      <td>0</td>\n",
       "    </tr>\n",
       "    <tr>\n",
       "      <th>2</th>\n",
       "      <td>2021</td>\n",
       "      <td>P</td>\n",
       "      <td>0</td>\n",
       "      <td>Gasoline</td>\n",
       "      <td>2020.0</td>\n",
       "      <td>ICE</td>\n",
       "      <td>Not Applicable</td>\n",
       "      <td>1</td>\n",
       "      <td>349406</td>\n",
       "      <td>0</td>\n",
       "      <td>0</td>\n",
       "      <td>0</td>\n",
       "    </tr>\n",
       "    <tr>\n",
       "      <th>3</th>\n",
       "      <td>2019</td>\n",
       "      <td>P</td>\n",
       "      <td>0</td>\n",
       "      <td>Gasoline</td>\n",
       "      <td>2019.0</td>\n",
       "      <td>ICE</td>\n",
       "      <td>Not Applicable</td>\n",
       "      <td>4</td>\n",
       "      <td>348475</td>\n",
       "      <td>0</td>\n",
       "      <td>0</td>\n",
       "      <td>0</td>\n",
       "    </tr>\n",
       "    <tr>\n",
       "      <th>4</th>\n",
       "      <td>2019</td>\n",
       "      <td>P</td>\n",
       "      <td>0</td>\n",
       "      <td>Gasoline</td>\n",
       "      <td>2018.0</td>\n",
       "      <td>ICE</td>\n",
       "      <td>Not Applicable</td>\n",
       "      <td>4</td>\n",
       "      <td>333296</td>\n",
       "      <td>0</td>\n",
       "      <td>0</td>\n",
       "      <td>0</td>\n",
       "    </tr>\n",
       "    <tr>\n",
       "      <th>...</th>\n",
       "      <td>...</td>\n",
       "      <td>...</td>\n",
       "      <td>...</td>\n",
       "      <td>...</td>\n",
       "      <td>...</td>\n",
       "      <td>...</td>\n",
       "      <td>...</td>\n",
       "      <td>...</td>\n",
       "      <td>...</td>\n",
       "      <td>...</td>\n",
       "      <td>...</td>\n",
       "      <td>...</td>\n",
       "    </tr>\n",
       "    <tr>\n",
       "      <th>41048</th>\n",
       "      <td>2019</td>\n",
       "      <td>B</td>\n",
       "      <td>0</td>\n",
       "      <td>Diesel</td>\n",
       "      <td>1983.0</td>\n",
       "      <td>ICE</td>\n",
       "      <td>Not Applicable</td>\n",
       "      <td>1</td>\n",
       "      <td>1</td>\n",
       "      <td>0</td>\n",
       "      <td>0</td>\n",
       "      <td>0</td>\n",
       "    </tr>\n",
       "    <tr>\n",
       "      <th>41049</th>\n",
       "      <td>2019</td>\n",
       "      <td>B</td>\n",
       "      <td>0</td>\n",
       "      <td>Diesel</td>\n",
       "      <td>1980.0</td>\n",
       "      <td>ICE</td>\n",
       "      <td>Not Applicable</td>\n",
       "      <td>2</td>\n",
       "      <td>1</td>\n",
       "      <td>0</td>\n",
       "      <td>0</td>\n",
       "      <td>0</td>\n",
       "    </tr>\n",
       "    <tr>\n",
       "      <th>41050</th>\n",
       "      <td>2019</td>\n",
       "      <td>B</td>\n",
       "      <td>0</td>\n",
       "      <td>Diesel</td>\n",
       "      <td>1978.0</td>\n",
       "      <td>ICE</td>\n",
       "      <td>Not Applicable</td>\n",
       "      <td>3</td>\n",
       "      <td>1</td>\n",
       "      <td>0</td>\n",
       "      <td>0</td>\n",
       "      <td>0</td>\n",
       "    </tr>\n",
       "    <tr>\n",
       "      <th>41051</th>\n",
       "      <td>2019</td>\n",
       "      <td>B</td>\n",
       "      <td>0</td>\n",
       "      <td>Diesel</td>\n",
       "      <td>1976.0</td>\n",
       "      <td>ICE</td>\n",
       "      <td>Not Applicable</td>\n",
       "      <td>2</td>\n",
       "      <td>1</td>\n",
       "      <td>0</td>\n",
       "      <td>0</td>\n",
       "      <td>0</td>\n",
       "    </tr>\n",
       "    <tr>\n",
       "      <th>41052</th>\n",
       "      <td>2019</td>\n",
       "      <td>B</td>\n",
       "      <td>0</td>\n",
       "      <td>Diesel</td>\n",
       "      <td>1976.0</td>\n",
       "      <td>ICE</td>\n",
       "      <td>Not Applicable</td>\n",
       "      <td>3</td>\n",
       "      <td>1</td>\n",
       "      <td>0</td>\n",
       "      <td>0</td>\n",
       "      <td>0</td>\n",
       "    </tr>\n",
       "  </tbody>\n",
       "</table>\n",
       "<p>41053 rows × 12 columns</p>\n",
       "</div>"
      ],
      "text/plain": [
       "       year vehicleCategory  gvwrClass  fuelType  modelYear fuelTechnology  \\\n",
       "0      2019               P          0  Gasoline     2020.0            ICE   \n",
       "1      2020               P          0  Gasoline     2020.0            ICE   \n",
       "2      2021               P          0  Gasoline     2020.0            ICE   \n",
       "3      2019               P          0  Gasoline     2019.0            ICE   \n",
       "4      2019               P          0  Gasoline     2018.0            ICE   \n",
       "...     ...             ...        ...       ...        ...            ...   \n",
       "41048  2019               B          0    Diesel     1983.0            ICE   \n",
       "41049  2019               B          0    Diesel     1980.0            ICE   \n",
       "41050  2019               B          0    Diesel     1978.0            ICE   \n",
       "41051  2019               B          0    Diesel     1976.0            ICE   \n",
       "41052  2019               B          0    Diesel     1976.0            ICE   \n",
       "\n",
       "      electricMileRange  numVehiclesReg  Vehicle Population  gvwrClassKN  \\\n",
       "0        Not Applicable               4              395883            0   \n",
       "1        Not Applicable               1              370954            0   \n",
       "2        Not Applicable               1              349406            0   \n",
       "3        Not Applicable               4              348475            0   \n",
       "4        Not Applicable               4              333296            0   \n",
       "...                 ...             ...                 ...          ...   \n",
       "41048    Not Applicable               1                   1            0   \n",
       "41049    Not Applicable               2                   1            0   \n",
       "41050    Not Applicable               3                   1            0   \n",
       "41051    Not Applicable               2                   1            0   \n",
       "41052    Not Applicable               3                   1            0   \n",
       "\n",
       "       fuelTypeKN  numVehiclesRegKN  \n",
       "0               0                 0  \n",
       "1               0                 0  \n",
       "2               0                 0  \n",
       "3               0                 0  \n",
       "4               0                 0  \n",
       "...           ...               ...  \n",
       "41048           0                 0  \n",
       "41049           0                 0  \n",
       "41050           0                 0  \n",
       "41051           0                 0  \n",
       "41052           0                 0  \n",
       "\n",
       "[41053 rows x 12 columns]"
      ]
     },
     "execution_count": 59,
     "metadata": {},
     "output_type": "execute_result"
    }
   ],
   "source": [
    "training[\"numVehiclesReg\"] = training[\"numVehiclesReg\"].apply(lambda x:  4 if x == \"≥4\" else x)\n",
    "training[\"numVehiclesRegKN\"] = training[\"numVehiclesReg\"].apply(lambda x:  1 if x == \"Unknown\" else 0)\n",
    "training[\"numVehiclesReg\"] = training[\"numVehiclesReg\"].replace(\"Unknown\", -1)\n",
    "training"
   ]
  },
  {
   "cell_type": "code",
   "execution_count": 57,
   "metadata": {},
   "outputs": [
    {
     "name": "stdout",
     "output_type": "stream",
     "text": [
      "year                    int64\n",
      "vehicleCategory        object\n",
      "gvwrClass               int64\n",
      "fuelType               object\n",
      "modelYear             float64\n",
      "fuelTechnology         object\n",
      "electricMileRange      object\n",
      "numVehiclesReg         object\n",
      "Vehicle Population      int64\n",
      "gvwrClassKN             int64\n",
      "fuelTypeKN              int64\n",
      "dtype: object\n"
     ]
    }
   ],
   "source": [
    "print(training.dtypes)\n"
   ]
  },
  {
   "cell_type": "code",
   "execution_count": 48,
   "metadata": {},
   "outputs": [
    {
     "name": "stdout",
     "output_type": "stream",
     "text": [
      "vehicleCategory\n",
      "<class 'str'>    41053\n",
      "Name: count, dtype: int64\n"
     ]
    }
   ],
   "source": [
    "print(training['vehicleCategory'].apply(type).value_counts())"
   ]
  },
  {
   "cell_type": "code",
   "execution_count": 49,
   "metadata": {},
   "outputs": [
    {
     "name": "stdout",
     "output_type": "stream",
     "text": [
      "gvwrClass\n",
      "<class 'int'>    41053\n",
      "Name: count, dtype: int64\n"
     ]
    }
   ],
   "source": [
    "print(training['gvwrClass'].apply(type).value_counts())"
   ]
  },
  {
   "cell_type": "code",
   "execution_count": 50,
   "metadata": {},
   "outputs": [
    {
     "name": "stdout",
     "output_type": "stream",
     "text": [
      "fuelType\n",
      "<class 'str'>    40967\n",
      "<class 'int'>       86\n",
      "Name: count, dtype: int64\n"
     ]
    }
   ],
   "source": [
    "print(training['fuelType'].apply(type).value_counts())"
   ]
  },
  {
   "cell_type": "code",
   "execution_count": 51,
   "metadata": {},
   "outputs": [
    {
     "name": "stdout",
     "output_type": "stream",
     "text": [
      "modelYear\n",
      "<class 'float'>    41053\n",
      "Name: count, dtype: int64\n"
     ]
    }
   ],
   "source": [
    "print(training['modelYear'].apply(type).value_counts())"
   ]
  },
  {
   "cell_type": "code",
   "execution_count": 60,
   "metadata": {},
   "outputs": [
    {
     "name": "stdout",
     "output_type": "stream",
     "text": [
      "numVehiclesReg\n",
      "<class 'int'>    41053\n",
      "Name: count, dtype: int64\n"
     ]
    }
   ],
   "source": [
    "print(training['numVehiclesReg'].apply(type).value_counts())"
   ]
  },
  {
   "cell_type": "code",
   "execution_count": 52,
   "metadata": {},
   "outputs": [
    {
     "data": {
      "image/png": "[encoded data removed]",
      "text/plain": [
       "<Figure size 800x600 with 1 Axes>"
      ]
     },
     "metadata": {},
     "output_type": "display_data"
    }
   ],
   "source": [
    "import seaborn as sns\n",
    "import matplotlib.pyplot as plt\n",
    "plt.figure(figsize=(8, 6))\n",
    "sns.heatmap(training.isnull(), cmap='viridis', cbar=False)\n",
    "plt.title(\"Missing Values Heatmap\")\n",
    "plt.show()"
   ]
  },
  {
   "cell_type": "code",
   "execution_count": null,
   "metadata": {},
   "outputs": [],
   "source": [
    "training"
   ]
  },
  {
   "cell_type": "code",
   "execution_count": null,
   "metadata": {},
   "outputs": [],
   "source": []
  }
 ],
 "metadata": {
  "kernelspec": {
   "display_name": "aleks1",
   "language": "python",
   "name": "python3"
  },
  "language_info": {
   "codemirror_mode": {
    "name": "ipython",
    "version": 3
   },
   "file_extension": ".py",
   "mimetype": "text/x-python",
   "name": "python",
   "nbconvert_exporter": "python",
   "pygments_lexer": "ipython3",
   "version": "3.10.13"
  }
 },
 "nbformat": 4,
 "nbformat_minor": 2
}
